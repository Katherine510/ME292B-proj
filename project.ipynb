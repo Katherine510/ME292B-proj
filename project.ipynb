{
 "cells": [
  {
   "cell_type": "code",
   "execution_count": null,
   "metadata": {},
   "outputs": [],
   "source": [
    "# Imports\n",
    "import numpy as np\n",
    "import matplotlib.pyplot as plt \n",
    "import networkx as nx"
   ]
  },
  {
   "cell_type": "code",
   "execution_count": null,
   "metadata": {},
   "outputs": [],
   "source": [
    "# Initialize Experiment Run\n",
    "\n",
    "np.random.seed(23573)\n",
    "n_agents = 4\n",
    "x = np.random.randint(10, size=(2, n_agents))\n",
    "x0 = x.copy()\n",
    "lr = 0.001\n",
    "\n",
    "# Build Fully Connected Initial Graph\n",
    "G = nx.Graph(n_agents)\n",
    "\n",
    "for i in range(n_agents):\n",
    "    G.add_node(i)\n",
    "    \n",
    "for i in range(n_agents):\n",
    "    for j in range(i + 1, n_agents):\n",
    "        G.add_edge(i, j)\n",
    "        G.add_edge(j, i)\n",
    "        \n"
   ]
  }
 ],
 "metadata": {
  "kernelspec": {
   "display_name": "Python 3",
   "language": "python",
   "name": "python3"
  },
  "language_info": {
   "name": "python",
   "version": "3.8.10"
  }
 },
 "nbformat": 4,
 "nbformat_minor": 2
}
